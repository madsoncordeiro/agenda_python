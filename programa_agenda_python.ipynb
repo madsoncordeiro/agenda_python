{
  "nbformat": 4,
  "nbformat_minor": 0,
  "metadata": {
    "colab": {
      "provenance": [],
      "authorship_tag": "ABX9TyOQxXRMEQpy1o9xdKyCCPVt"
    },
    "kernelspec": {
      "name": "python3",
      "display_name": "Python 3"
    },
    "language_info": {
      "name": "python"
    }
  },
  "cells": [
    {
      "cell_type": "code",
      "execution_count": 1,
      "metadata": {
        "id": "tOtA6dgjp8Ss"
      },
      "outputs": [],
      "source": [
        "agenda = [\n",
        "\n",
        "  ((2020, 1, 13), (11, 50), 'Renovar identidade'),\n",
        "\n",
        "  ((2020, 1, 15), (16, 30), 'Fazer compras'),\n",
        "\n",
        "  ((2020, 1, 25), (8, 45), 'Autenticar documentos'),\n",
        "\n",
        "  ((2020, 2, 29), (14, 15), 'Prestar concurso'),\n",
        "\n",
        "  ((2020, 3, 15), (17, 50), 'Buscar bolo pro aniversário da vovó'),\n",
        "\n",
        "  ((2020, 3, 17), (13, 20), 'Consulta de revisão com dentista'),\n",
        "]"
      ]
    },
    {
      "cell_type": "code",
      "source": [
        "def imprimir_eventos(eventos, de_data=(1, 1, 1), ate_data=(9999, 12, 31)):\n",
        "    for eventos in agenda: \n",
        "        if eventos[0] >= de_data and eventos[0] <= ate_data:\n",
        "            print(formatar_data(*eventos[0]) + ' - ' + formatar_horas(*eventos[1]) + ': ' + eventos[2] + '\\n')\n",
        "    \n",
        "def formatar_data(ano, mes, dia):\n",
        "    meses = [ 'jan', 'fev', 'mar', 'abr', 'mai'\n",
        "            'jun', 'jul', 'ago', 'set', 'out'\n",
        "            'nov', 'dez'\n",
        "            ]\n",
        "    \n",
        "    mes = meses[mes - 1]\n",
        "    return str(dia) + '/' + mes + '/' + str(ano)\n",
        "\n",
        "def formatar_horas(horas, minutos):\n",
        "    return str(horas) + ':' + str(minutos)\n",
        "\n",
        "\n",
        "imprimir_eventos(agenda, (2020,1,15), (2020, 3,1))"
      ],
      "metadata": {
        "colab": {
          "base_uri": "https://localhost:8080/"
        },
        "id": "NqYMvQzuqDbh",
        "outputId": "ccdd1f1d-cafc-4efa-d599-b2f260324bbe"
      },
      "execution_count": 2,
      "outputs": [
        {
          "output_type": "stream",
          "name": "stdout",
          "text": [
            "15/jan/2020 - 16:30: Fazer compras\n",
            "\n",
            "25/jan/2020 - 8:45: Autenticar documentos\n",
            "\n",
            "29/fev/2020 - 14:15: Prestar concurso\n",
            "\n"
          ]
        }
      ]
    }
  ]
}